{
 "cells": [
  {
   "cell_type": "code",
   "execution_count": 1,
   "id": "a60c3e66-e0c0-4acf-b161-1ca76d7af26c",
   "metadata": {},
   "outputs": [],
   "source": [
    "import pandas as pd\n",
    "import requests"
   ]
  },
  {
   "cell_type": "code",
   "execution_count": 3,
   "id": "63cbef87-5151-434c-8aa9-b33855812be2",
   "metadata": {},
   "outputs": [
    {
     "name": "stdout",
     "output_type": "stream",
     "text": [
      "Attempt 1 timed out. Retrying...\n",
      "Attempt 2 timed out. Retrying...\n",
      "Attempt 3 timed out. Retrying...\n",
      "Failed to retrieve movie data.\n"
     ]
    }
   ],
   "source": [
    "import requests\n",
    "import time\n",
    "\n",
    "# Add timeout and implement retry logic\n",
    "def get_movie_data(max_retries=3, timeout=10):\n",
    "    url = 'https://api.themoviedb.org/3/movie/top_rated'\n",
    "    params = {\n",
    "        'api_key': '8265bd1679663a7ea12ac168da84d2e8',\n",
    "        'language': 'en-US',\n",
    "        'page': 1\n",
    "    }\n",
    "    \n",
    "    for attempt in range(max_retries):\n",
    "        try:\n",
    "            # Set a timeout value to prevent hanging indefinitely\n",
    "            response = requests.get(url, params=params, timeout=timeout)\n",
    "            response.raise_for_status()  # Raise an exception for 4XX/5XX responses\n",
    "            return response.json()\n",
    "        except requests.exceptions.Timeout:\n",
    "            print(f\"Attempt {attempt + 1} timed out. Retrying...\")\n",
    "            # Wait a bit longer between retries\n",
    "            time.sleep(2 * (attempt + 1))\n",
    "        except requests.exceptions.RequestException as e:\n",
    "            print(f\"Request failed: {e}\")\n",
    "            if attempt < max_retries - 1:\n",
    "                print(\"Retrying...\")\n",
    "                time.sleep(2 * (attempt + 1))\n",
    "            else:\n",
    "                print(\"Max retries reached. Could not connect to the API.\")\n",
    "                return None\n",
    "    \n",
    "    return None\n",
    "\n",
    "# Call the function\n",
    "movie_data = get_movie_data()\n",
    "if movie_data:\n",
    "    print(\"Successfully retrieved movie data!\")\n",
    "else:\n",
    "    print(\"Failed to retrieve movie data.\")"
   ]
  },
  {
   "cell_type": "code",
   "execution_count": 7,
   "id": "5ce51d3f-b053-45b8-985d-a1847c26de19",
   "metadata": {},
   "outputs": [
    {
     "name": "stdout",
     "output_type": "stream",
     "text": [
      "The request timed out. Please try again later.\n"
     ]
    }
   ],
   "source": [
    "import requests\n",
    "import pandas as pd\n",
    "\n",
    "# Add API key as required by The Movie Database API\n",
    "# You need to register at https://www.themoviedb.org/ to get an API key\n",
    "api_key = \"YOUR_API_KEY_HERE\"  # Replace with your actual API key\n",
    "\n",
    "# Add the API key as a parameter in the request\n",
    "url = 'https://api.themoviedb.org/3/movie/top_rated'\n",
    "params = {\n",
    "    'api_key': api_key\n",
    "}\n",
    "\n",
    "# Set a timeout for the request (in seconds)\n",
    "try:\n",
    "    response = requests.get(url, params=params, timeout=10)\n",
    "    \n",
    "    # Check if the request was successful\n",
    "    if response.status_code == 200:\n",
    "        # Now create the DataFrame using the response\n",
    "        temp_df = pd.DataFrame(response.json()['results'])[['id','title','overview','release_date','popularity','vote_average','vote_count']]\n",
    "        print(temp_df.head())  # Display the first few rows\n",
    "    else:\n",
    "        print(f\"Request failed with status code: {response.status_code}\")\n",
    "        print(response.text)\n",
    "except requests.exceptions.Timeout:\n",
    "    print(\"The request timed out. Please try again later.\")\n",
    "except requests.exceptions.RequestException as e:\n",
    "    print(f\"An error occurred: {e}\")"
   ]
  },
  {
   "cell_type": "code",
   "execution_count": null,
   "id": "626bfe16-0be6-45bb-b83e-64222bcc34a2",
   "metadata": {},
   "outputs": [],
   "source": []
  }
 ],
 "metadata": {
  "kernelspec": {
   "display_name": "Python [conda env:base] *",
   "language": "python",
   "name": "conda-base-py"
  },
  "language_info": {
   "codemirror_mode": {
    "name": "ipython",
    "version": 3
   },
   "file_extension": ".py",
   "mimetype": "text/x-python",
   "name": "python",
   "nbconvert_exporter": "python",
   "pygments_lexer": "ipython3",
   "version": "3.13.5"
  }
 },
 "nbformat": 4,
 "nbformat_minor": 5
}
