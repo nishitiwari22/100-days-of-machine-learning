{
 "cells": [
  {
   "cell_type": "code",
   "execution_count": 5,
   "id": "48fbacad-edf2-4d72-b05e-5eb09d0f81c0",
   "metadata": {},
   "outputs": [
    {
     "name": "stdout",
     "output_type": "stream",
     "text": [
      "From: <Saved by Blink>\n",
      "Snapshot-Content-Location: https://github.com/campusx-official/100-days-of-machine-learning/blob/main/day16%20-%20working-with-json-and-sql/train.json\n",
      "Subject: =?utf-8?Q?100-days-of-machine-learning/day16=20-=20working-with-json-and-?=\n",
      " =?utf-8?Q?sql/train.json=20at=20main=20=C2=B7=20campusx-official/100-days?=\n",
      " =?utf-8?Q?-of-machine-learning?=\n",
      "Date: Mon, 11 Aug 2025 18:24:11 +0530\n",
      "MIME-Version: 1.0\n",
      "Content-Type: multipart/related;\n",
      "\ttype=\"text/html\";\n",
      "\tboundary=\"----Multipa\n"
     ]
    }
   ],
   "source": [
    "with open('train.json', 'r', encoding='utf-8') as f:\n",
    "    print(f.read()[:500])  # Print first 500 characters\n"
   ]
  },
  {
   "cell_type": "code",
   "execution_count": null,
   "id": "155c7b5e-d569-4466-9524-33774cead781",
   "metadata": {},
   "outputs": [],
   "source": []
  }
 ],
 "metadata": {
  "kernelspec": {
   "display_name": "Python [conda env:base] *",
   "language": "python",
   "name": "conda-base-py"
  },
  "language_info": {
   "codemirror_mode": {
    "name": "ipython",
    "version": 3
   },
   "file_extension": ".py",
   "mimetype": "text/x-python",
   "name": "python",
   "nbconvert_exporter": "python",
   "pygments_lexer": "ipython3",
   "version": "3.13.5"
  }
 },
 "nbformat": 4,
 "nbformat_minor": 5
}
