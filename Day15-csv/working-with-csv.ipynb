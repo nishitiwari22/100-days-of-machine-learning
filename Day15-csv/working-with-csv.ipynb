{
 "cells": [
  {
   "cell_type": "code",
   "execution_count": 1,
   "id": "ff51846b-37bd-4083-a1e1-c10f9ad2fe71",
   "metadata": {},
   "outputs": [],
   "source": [
    "import pandas as pd\n"
   ]
  },
  {
   "cell_type": "code",
   "execution_count": 4,
   "id": "e0779e74-38fc-433b-b4dc-9a707e057204",
   "metadata": {},
   "outputs": [
    {
     "name": "stdout",
     "output_type": "stream",
     "text": [
      "From: <Saved by Blink>\n",
      "\n",
      "Snapshot-Content-Location: https://github.com/campusx-official/100-days-of-machine-learning/blob/main/day15%20-%20working%20with%20csv%20files/working-with-csv.ipynb\n",
      "\n",
      "Subject: =?utf-8?Q?100-days-of-machine-learning/day15=20-=20working=20with=20csv?=\n",
      "\n",
      " =?utf-8?Q?=20files/working-with-csv.ipynb=20at=20main=20=C2=B7=20campusx-?=\n",
      "\n",
      " =?utf-8?Q?official/100-days-of-machine-learning?=\n",
      "\n"
     ]
    }
   ],
   "source": [
    "with open('aug-train.csv', 'r', encoding='utf-8') as f:\n",
    "    for _ in range(5):\n",
    "        print(f.readline())\n"
   ]
  },
  {
   "cell_type": "code",
   "execution_count": 5,
   "id": "998a7616-dea6-4b94-86e7-f95064134b9d",
   "metadata": {},
   "outputs": [
    {
     "data": {
      "text/html": [
       "<div>\n",
       "<style scoped>\n",
       "    .dataframe tbody tr th:only-of-type {\n",
       "        vertical-align: middle;\n",
       "    }\n",
       "\n",
       "    .dataframe tbody tr th {\n",
       "        vertical-align: top;\n",
       "    }\n",
       "\n",
       "    .dataframe thead th {\n",
       "        text-align: right;\n",
       "    }\n",
       "</style>\n",
       "<table border=\"1\" class=\"dataframe\">\n",
       "  <thead>\n",
       "    <tr style=\"text-align: right;\">\n",
       "      <th></th>\n",
       "      <th>From: &lt;Saved by Blink&gt;</th>\n",
       "    </tr>\n",
       "  </thead>\n",
       "  <tbody>\n",
       "    <tr>\n",
       "      <th>0</th>\n",
       "      <td>Snapshot-Content-Location: https://github.com/...</td>\n",
       "    </tr>\n",
       "    <tr>\n",
       "      <th>1</th>\n",
       "      <td>Subject: =?utf-8?Q?100-days-of-machine-learnin...</td>\n",
       "    </tr>\n",
       "    <tr>\n",
       "      <th>2</th>\n",
       "      <td>=?utf-8?Q?=20files/working-with-csv.ipynb=20a...</td>\n",
       "    </tr>\n",
       "    <tr>\n",
       "      <th>3</th>\n",
       "      <td>=?utf-8?Q?official/100-days-of-machine-learni...</td>\n",
       "    </tr>\n",
       "    <tr>\n",
       "      <th>4</th>\n",
       "      <td>MIME-Version: 1.0</td>\n",
       "    </tr>\n",
       "  </tbody>\n",
       "</table>\n",
       "</div>"
      ],
      "text/plain": [
       "                              From: <Saved by Blink>\n",
       "0  Snapshot-Content-Location: https://github.com/...\n",
       "1  Subject: =?utf-8?Q?100-days-of-machine-learnin...\n",
       "2   =?utf-8?Q?=20files/working-with-csv.ipynb=20a...\n",
       "3   =?utf-8?Q?official/100-days-of-machine-learni...\n",
       "4                                  MIME-Version: 1.0"
      ]
     },
     "execution_count": 5,
     "metadata": {},
     "output_type": "execute_result"
    }
   ],
   "source": [
    "import pandas as pd\n",
    "df = pd.read_csv('aug-train.csv', on_bad_lines='skip', engine='python')\n",
    "df.head()\n"
   ]
  },
  {
   "cell_type": "code",
   "execution_count": 7,
   "id": "b8dc7a59-27da-4a90-870c-95d718ea824d",
   "metadata": {},
   "outputs": [
    {
     "data": {
      "text/html": [
       "<div>\n",
       "<style scoped>\n",
       "    .dataframe tbody tr th:only-of-type {\n",
       "        vertical-align: middle;\n",
       "    }\n",
       "\n",
       "    .dataframe tbody tr th {\n",
       "        vertical-align: top;\n",
       "    }\n",
       "\n",
       "    .dataframe thead th {\n",
       "        text-align: right;\n",
       "    }\n",
       "</style>\n",
       "<table border=\"1\" class=\"dataframe\">\n",
       "  <thead>\n",
       "    <tr style=\"text-align: right;\">\n",
       "      <th></th>\n",
       "      <th>Country</th>\n",
       "      <th>Region</th>\n",
       "    </tr>\n",
       "  </thead>\n",
       "  <tbody>\n",
       "    <tr>\n",
       "      <th>0</th>\n",
       "      <td>Algeria</td>\n",
       "      <td>AFRICA</td>\n",
       "    </tr>\n",
       "    <tr>\n",
       "      <th>1</th>\n",
       "      <td>Angola</td>\n",
       "      <td>AFRICA</td>\n",
       "    </tr>\n",
       "    <tr>\n",
       "      <th>2</th>\n",
       "      <td>Benin</td>\n",
       "      <td>AFRICA</td>\n",
       "    </tr>\n",
       "    <tr>\n",
       "      <th>3</th>\n",
       "      <td>Botswana</td>\n",
       "      <td>AFRICA</td>\n",
       "    </tr>\n",
       "    <tr>\n",
       "      <th>4</th>\n",
       "      <td>Burkina</td>\n",
       "      <td>AFRICA</td>\n",
       "    </tr>\n",
       "    <tr>\n",
       "      <th>...</th>\n",
       "      <td>...</td>\n",
       "      <td>...</td>\n",
       "    </tr>\n",
       "    <tr>\n",
       "      <th>189</th>\n",
       "      <td>Paraguay</td>\n",
       "      <td>SOUTH AMERICA</td>\n",
       "    </tr>\n",
       "    <tr>\n",
       "      <th>190</th>\n",
       "      <td>Peru</td>\n",
       "      <td>SOUTH AMERICA</td>\n",
       "    </tr>\n",
       "    <tr>\n",
       "      <th>191</th>\n",
       "      <td>Suriname</td>\n",
       "      <td>SOUTH AMERICA</td>\n",
       "    </tr>\n",
       "    <tr>\n",
       "      <th>192</th>\n",
       "      <td>Uruguay</td>\n",
       "      <td>SOUTH AMERICA</td>\n",
       "    </tr>\n",
       "    <tr>\n",
       "      <th>193</th>\n",
       "      <td>Venezuela</td>\n",
       "      <td>SOUTH AMERICA</td>\n",
       "    </tr>\n",
       "  </tbody>\n",
       "</table>\n",
       "<p>194 rows × 2 columns</p>\n",
       "</div>"
      ],
      "text/plain": [
       "       Country         Region\n",
       "0      Algeria         AFRICA\n",
       "1       Angola         AFRICA\n",
       "2        Benin         AFRICA\n",
       "3     Botswana         AFRICA\n",
       "4      Burkina         AFRICA\n",
       "..         ...            ...\n",
       "189   Paraguay  SOUTH AMERICA\n",
       "190       Peru  SOUTH AMERICA\n",
       "191   Suriname  SOUTH AMERICA\n",
       "192    Uruguay  SOUTH AMERICA\n",
       "193  Venezuela  SOUTH AMERICA\n",
       "\n",
       "[194 rows x 2 columns]"
      ]
     },
     "execution_count": 7,
     "metadata": {},
     "output_type": "execute_result"
    }
   ],
   "source": [
    "import requests\n",
    "from io import StringIO\n",
    "\n",
    "url = \"https://raw.githubusercontent.com/cs109/2014_data/master/countries.csv\"\n",
    "headers = {\"User-Agent\": \"Mozilla/5.0 (Macintosh; Intel Mac OS X 10.14; rv:66.0) Gecko/20100101 Firefox/66.0\"}\n",
    "req = requests.get(url, headers=headers)\n",
    "data = StringIO(req.text)\n",
    "\n",
    "pd.read_csv(data)"
   ]
  },
  {
   "cell_type": "code",
   "execution_count": 19,
   "id": "e279011d-5ed9-4aa9-a8bd-ae10c9ab19af",
   "metadata": {},
   "outputs": [],
   "source": [
    "df = pd.read_csv(\"movies_title_metadata.tsv\", sep=\"\\t\", names=[\"sno\",\"name\",\"release_year\",\"rating\",\"votes\",\"genres\"])\n"
   ]
  },
  {
   "cell_type": "code",
   "execution_count": 25,
   "id": "10b01387-cc0c-41e9-8307-d01c1d1620e4",
   "metadata": {},
   "outputs": [
    {
     "data": {
      "text/plain": [
       "Index(['sno', 'name', 'release_year', 'rating', 'votes', 'genres'], dtype='object')"
      ]
     },
     "execution_count": 25,
     "metadata": {},
     "output_type": "execute_result"
    }
   ],
   "source": [
    "df.columns\n"
   ]
  },
  {
   "cell_type": "code",
   "execution_count": 34,
   "id": "af55c194-2513-4b28-a735-0997cd5a269c",
   "metadata": {},
   "outputs": [
    {
     "data": {
      "text/html": [
       "<div>\n",
       "<style scoped>\n",
       "    .dataframe tbody tr th:only-of-type {\n",
       "        vertical-align: middle;\n",
       "    }\n",
       "\n",
       "    .dataframe tbody tr th {\n",
       "        vertical-align: top;\n",
       "    }\n",
       "\n",
       "    .dataframe thead th {\n",
       "        text-align: right;\n",
       "    }\n",
       "</style>\n",
       "<table border=\"1\" class=\"dataframe\">\n",
       "  <thead>\n",
       "    <tr style=\"text-align: right;\">\n",
       "      <th></th>\n",
       "      <th>From: &lt;Saved by Blink&gt;</th>\n",
       "    </tr>\n",
       "  </thead>\n",
       "  <tbody>\n",
       "    <tr>\n",
       "      <th>0</th>\n",
       "      <td>Snapshot-Content-Location: https://github.com/...</td>\n",
       "    </tr>\n",
       "    <tr>\n",
       "      <th>1</th>\n",
       "      <td>Subject: =?utf-8?Q?100-days-of-machine-learnin...</td>\n",
       "    </tr>\n",
       "    <tr>\n",
       "      <th>2</th>\n",
       "      <td>=?utf-8?Q?=20files/working-with-csv.ipynb=20a...</td>\n",
       "    </tr>\n",
       "    <tr>\n",
       "      <th>3</th>\n",
       "      <td>=?utf-8?Q?official/100-days-of-machine-learni...</td>\n",
       "    </tr>\n",
       "    <tr>\n",
       "      <th>4</th>\n",
       "      <td>MIME-Version: 1.0</td>\n",
       "    </tr>\n",
       "  </tbody>\n",
       "</table>\n",
       "</div>"
      ],
      "text/plain": [
       "                              From: <Saved by Blink>\n",
       "0  Snapshot-Content-Location: https://github.com/...\n",
       "1  Subject: =?utf-8?Q?100-days-of-machine-learnin...\n",
       "2   =?utf-8?Q?=20files/working-with-csv.ipynb=20a...\n",
       "3   =?utf-8?Q?official/100-days-of-machine-learni...\n",
       "4                                  MIME-Version: 1.0"
      ]
     },
     "execution_count": 34,
     "metadata": {},
     "output_type": "execute_result"
    }
   ],
   "source": [
    "import pandas as pd\n",
    "df = pd.read_csv('aug-train.csv', on_bad_lines='skip', engine='python')\n",
    "df.head()\n"
   ]
  },
  {
   "cell_type": "code",
   "execution_count": 35,
   "id": "b6c4f327-be17-41ff-8910-468c4415710e",
   "metadata": {},
   "outputs": [
    {
     "data": {
      "text/plain": [
       "Index(['From: <Saved by Blink>'], dtype='object')"
      ]
     },
     "execution_count": 35,
     "metadata": {},
     "output_type": "execute_result"
    }
   ],
   "source": [
    "df.columns\n"
   ]
  },
  {
   "cell_type": "code",
   "execution_count": 39,
   "id": "455d03c4-71e4-4ae2-82dc-d8eaf1253e3e",
   "metadata": {},
   "outputs": [
    {
     "data": {
      "text/html": [
       "<div>\n",
       "<style scoped>\n",
       "    .dataframe tbody tr th:only-of-type {\n",
       "        vertical-align: middle;\n",
       "    }\n",
       "\n",
       "    .dataframe tbody tr th {\n",
       "        vertical-align: top;\n",
       "    }\n",
       "\n",
       "    .dataframe thead th {\n",
       "        text-align: right;\n",
       "    }\n",
       "</style>\n",
       "<table border=\"1\" class=\"dataframe\">\n",
       "  <thead>\n",
       "    <tr style=\"text-align: right;\">\n",
       "      <th></th>\n",
       "      <th>Snapshot-Content-Location: https://github.com/campusx-official/100-days-of-machine-learning/blob/main/day15%20-%20working%20with%20csv%20files/working-with-csv.ipynb</th>\n",
       "    </tr>\n",
       "  </thead>\n",
       "  <tbody>\n",
       "    <tr>\n",
       "      <th>0</th>\n",
       "      <td>Subject: =?utf-8?Q?100-days-of-machine-learnin...</td>\n",
       "    </tr>\n",
       "    <tr>\n",
       "      <th>1</th>\n",
       "      <td>=?utf-8?Q?=20files/working-with-csv.ipynb=20a...</td>\n",
       "    </tr>\n",
       "    <tr>\n",
       "      <th>2</th>\n",
       "      <td>=?utf-8?Q?official/100-days-of-machine-learni...</td>\n",
       "    </tr>\n",
       "    <tr>\n",
       "      <th>3</th>\n",
       "      <td>MIME-Version: 1.0</td>\n",
       "    </tr>\n",
       "    <tr>\n",
       "      <th>4</th>\n",
       "      <td>Content-Type: multipart/related;</td>\n",
       "    </tr>\n",
       "  </tbody>\n",
       "</table>\n",
       "</div>"
      ],
      "text/plain": [
       "  Snapshot-Content-Location: https://github.com/campusx-official/100-days-of-machine-learning/blob/main/day15%20-%20working%20with%20csv%20files/working-with-csv.ipynb\n",
       "0  Subject: =?utf-8?Q?100-days-of-machine-learnin...                                                                                                                   \n",
       "1   =?utf-8?Q?=20files/working-with-csv.ipynb=20a...                                                                                                                   \n",
       "2   =?utf-8?Q?official/100-days-of-machine-learni...                                                                                                                   \n",
       "3                                  MIME-Version: 1.0                                                                                                                   \n",
       "4                   Content-Type: multipart/related;                                                                                                                   "
      ]
     },
     "execution_count": 39,
     "metadata": {},
     "output_type": "execute_result"
    }
   ],
   "source": [
    "import pandas as pd\n",
    "\n",
    "df = pd.read_csv(\n",
    "    'test.csv',\n",
    "    header=1,\n",
    "    on_bad_lines='skip',\n",
    "    engine='python'\n",
    ")\n",
    "df.head()\n"
   ]
  },
  {
   "cell_type": "code",
   "execution_count": 43,
   "id": "76ed494e-c0e5-4af2-baf5-f533ee54cdb4",
   "metadata": {},
   "outputs": [
    {
     "data": {
      "text/html": [
       "<div>\n",
       "<style scoped>\n",
       "    .dataframe tbody tr th:only-of-type {\n",
       "        vertical-align: middle;\n",
       "    }\n",
       "\n",
       "    .dataframe tbody tr th {\n",
       "        vertical-align: top;\n",
       "    }\n",
       "\n",
       "    .dataframe thead th {\n",
       "        text-align: right;\n",
       "    }\n",
       "</style>\n",
       "<table border=\"1\" class=\"dataframe\">\n",
       "  <thead>\n",
       "    <tr style=\"text-align: right;\">\n",
       "      <th></th>\n",
       "      <th>From: &lt;Saved by Blink&gt;</th>\n",
       "    </tr>\n",
       "  </thead>\n",
       "  <tbody>\n",
       "    <tr>\n",
       "      <th>0</th>\n",
       "      <td>Snapshot-Content-Location: https://github.com/...</td>\n",
       "    </tr>\n",
       "    <tr>\n",
       "      <th>1</th>\n",
       "      <td>Subject: =?utf-8?Q?100-days-of-machine-learnin...</td>\n",
       "    </tr>\n",
       "    <tr>\n",
       "      <th>2</th>\n",
       "      <td>=?utf-8?Q?=20files/working-with-csv.ipynb=20a...</td>\n",
       "    </tr>\n",
       "    <tr>\n",
       "      <th>3</th>\n",
       "      <td>=?utf-8?Q?official/100-days-of-machine-learni...</td>\n",
       "    </tr>\n",
       "    <tr>\n",
       "      <th>4</th>\n",
       "      <td>MIME-Version: 1.0</td>\n",
       "    </tr>\n",
       "  </tbody>\n",
       "</table>\n",
       "</div>"
      ],
      "text/plain": [
       "                              From: <Saved by Blink>\n",
       "0  Snapshot-Content-Location: https://github.com/...\n",
       "1  Subject: =?utf-8?Q?100-days-of-machine-learnin...\n",
       "2   =?utf-8?Q?=20files/working-with-csv.ipynb=20a...\n",
       "3   =?utf-8?Q?official/100-days-of-machine-learni...\n",
       "4                                  MIME-Version: 1.0"
      ]
     },
     "execution_count": 43,
     "metadata": {},
     "output_type": "execute_result"
    }
   ],
   "source": [
    "import pandas as pd\n",
    "\n",
    "df = pd.read_csv(\n",
    "    'aug-train.csv',\n",
    "    on_bad_lines='skip',\n",
    "    engine='python'\n",
    ")\n",
    "df.head()\n"
   ]
  },
  {
   "cell_type": "code",
   "execution_count": 49,
   "id": "5ec1ad95-3fea-49df-a736-cb8bd4f48f62",
   "metadata": {},
   "outputs": [
    {
     "data": {
      "text/html": [
       "<div>\n",
       "<style scoped>\n",
       "    .dataframe tbody tr th:only-of-type {\n",
       "        vertical-align: middle;\n",
       "    }\n",
       "\n",
       "    .dataframe tbody tr th {\n",
       "        vertical-align: top;\n",
       "    }\n",
       "\n",
       "    .dataframe thead th {\n",
       "        text-align: right;\n",
       "    }\n",
       "</style>\n",
       "<table border=\"1\" class=\"dataframe\">\n",
       "  <thead>\n",
       "    <tr style=\"text-align: right;\">\n",
       "      <th></th>\n",
       "      <th>From: &lt;Saved by Blink&gt;</th>\n",
       "    </tr>\n",
       "  </thead>\n",
       "  <tbody>\n",
       "    <tr>\n",
       "      <th>0</th>\n",
       "      <td>Snapshot-Content-Location: https://github.com/...</td>\n",
       "    </tr>\n",
       "    <tr>\n",
       "      <th>1</th>\n",
       "      <td>Subject: =?utf-8?Q?100-days-of-machine-learnin...</td>\n",
       "    </tr>\n",
       "    <tr>\n",
       "      <th>2</th>\n",
       "      <td>=?utf-8?Q?=20files/working-with-csv.ipynb=20a...</td>\n",
       "    </tr>\n",
       "    <tr>\n",
       "      <th>3</th>\n",
       "      <td>=?utf-8?Q?official/100-days-of-machine-learni...</td>\n",
       "    </tr>\n",
       "    <tr>\n",
       "      <th>4</th>\n",
       "      <td>MIME-Version: 1.0</td>\n",
       "    </tr>\n",
       "  </tbody>\n",
       "</table>\n",
       "</div>"
      ],
      "text/plain": [
       "                              From: <Saved by Blink>\n",
       "0  Snapshot-Content-Location: https://github.com/...\n",
       "1  Subject: =?utf-8?Q?100-days-of-machine-learnin...\n",
       "2   =?utf-8?Q?=20files/working-with-csv.ipynb=20a...\n",
       "3   =?utf-8?Q?official/100-days-of-machine-learni...\n",
       "4                                  MIME-Version: 1.0"
      ]
     },
     "execution_count": 49,
     "metadata": {},
     "output_type": "execute_result"
    }
   ],
   "source": [
    "import pandas as pd\n",
    "\n",
    "df = pd.read_csv(\n",
    "    'aug-train.csv',\n",
    "    nrows=100,\n",
    "    engine='python',\n",
    "    on_bad_lines='skip'\n",
    ")\n",
    "\n",
    "df.head()\n"
   ]
  },
  {
   "cell_type": "code",
   "execution_count": 50,
   "id": "27b4c23d-6db6-48d7-a02f-13eea342e07d",
   "metadata": {},
   "outputs": [
    {
     "data": {
      "text/html": [
       "<div>\n",
       "<style scoped>\n",
       "    .dataframe tbody tr th:only-of-type {\n",
       "        vertical-align: middle;\n",
       "    }\n",
       "\n",
       "    .dataframe tbody tr th {\n",
       "        vertical-align: top;\n",
       "    }\n",
       "\n",
       "    .dataframe thead th {\n",
       "        text-align: right;\n",
       "    }\n",
       "</style>\n",
       "<table border=\"1\" class=\"dataframe\">\n",
       "  <thead>\n",
       "    <tr style=\"text-align: right;\">\n",
       "      <th></th>\n",
       "      <th>From: &lt;Saved by Blink&gt;</th>\n",
       "    </tr>\n",
       "  </thead>\n",
       "  <tbody>\n",
       "    <tr>\n",
       "      <th>0</th>\n",
       "      <td>Snapshot-Content-Location: https://github.com/...</td>\n",
       "    </tr>\n",
       "    <tr>\n",
       "      <th>1</th>\n",
       "      <td>Subject: =?utf-8?Q?100-days-of-machine-learnin...</td>\n",
       "    </tr>\n",
       "    <tr>\n",
       "      <th>2</th>\n",
       "      <td>=?utf-8?Q?=20files=20at=20main=20=C2=B7=20cam...</td>\n",
       "    </tr>\n",
       "    <tr>\n",
       "      <th>3</th>\n",
       "      <td>=?utf-8?Q?chine-learning?=</td>\n",
       "    </tr>\n",
       "    <tr>\n",
       "      <th>4</th>\n",
       "      <td>MIME-Version: 1.0</td>\n",
       "    </tr>\n",
       "  </tbody>\n",
       "</table>\n",
       "</div>"
      ],
      "text/plain": [
       "                              From: <Saved by Blink>\n",
       "0  Snapshot-Content-Location: https://github.com/...\n",
       "1  Subject: =?utf-8?Q?100-days-of-machine-learnin...\n",
       "2   =?utf-8?Q?=20files=20at=20main=20=C2=B7=20cam...\n",
       "3                         =?utf-8?Q?chine-learning?=\n",
       "4                                  MIME-Version: 1.0"
      ]
     },
     "execution_count": 50,
     "metadata": {},
     "output_type": "execute_result"
    }
   ],
   "source": [
    "import pandas as pd\n",
    "df = pd.read_csv('zomato.csv', on_bad_lines='skip', engine='python')\n",
    "df.head()"
   ]
  },
  {
   "cell_type": "code",
   "execution_count": 52,
   "id": "b14cb262-ea74-441f-9f4c-f1cc796ee91f",
   "metadata": {},
   "outputs": [
    {
     "data": {
      "text/html": [
       "<div>\n",
       "<style scoped>\n",
       "    .dataframe tbody tr th:only-of-type {\n",
       "        vertical-align: middle;\n",
       "    }\n",
       "\n",
       "    .dataframe tbody tr th {\n",
       "        vertical-align: top;\n",
       "    }\n",
       "\n",
       "    .dataframe thead th {\n",
       "        text-align: right;\n",
       "    }\n",
       "</style>\n",
       "<table border=\"1\" class=\"dataframe\">\n",
       "  <thead>\n",
       "    <tr style=\"text-align: right;\">\n",
       "      <th></th>\n",
       "      <th>From: &lt;Saved by Blink&gt;</th>\n",
       "    </tr>\n",
       "  </thead>\n",
       "  <tbody>\n",
       "    <tr>\n",
       "      <th>0</th>\n",
       "      <td>Snapshot-Content-Location: https://github.com/...</td>\n",
       "    </tr>\n",
       "    <tr>\n",
       "      <th>1</th>\n",
       "      <td>Subject: =?utf-8?Q?100-days-of-machine-learnin...</td>\n",
       "    </tr>\n",
       "    <tr>\n",
       "      <th>2</th>\n",
       "      <td>=?utf-8?Q?=20files=20at=20main=20=C2=B7=20cam...</td>\n",
       "    </tr>\n",
       "    <tr>\n",
       "      <th>3</th>\n",
       "      <td>=?utf-8?Q?chine-learning?=</td>\n",
       "    </tr>\n",
       "    <tr>\n",
       "      <th>4</th>\n",
       "      <td>MIME-Version: 1.0</td>\n",
       "    </tr>\n",
       "  </tbody>\n",
       "</table>\n",
       "</div>"
      ],
      "text/plain": [
       "                              From: <Saved by Blink>\n",
       "0  Snapshot-Content-Location: https://github.com/...\n",
       "1  Subject: =?utf-8?Q?100-days-of-machine-learnin...\n",
       "2   =?utf-8?Q?=20files=20at=20main=20=C2=B7=20cam...\n",
       "3                         =?utf-8?Q?chine-learning?=\n",
       "4                                  MIME-Version: 1.0"
      ]
     },
     "execution_count": 52,
     "metadata": {},
     "output_type": "execute_result"
    }
   ],
   "source": [
    "import pandas as pd\n",
    "\n",
    "df = pd.read_csv(\n",
    "    'zomato.csv',\n",
    "    encoding='latin-1',     # Handles special characters\n",
    "    on_bad_lines='skip',    # Skips problematic rows\n",
    "    engine='python'         # More tolerant parser\n",
    ")\n",
    "\n",
    "df.head()\n"
   ]
  },
  {
   "cell_type": "code",
   "execution_count": 55,
   "id": "81bcb329-85b7-41d3-953f-447446271832",
   "metadata": {},
   "outputs": [
    {
     "name": "stdout",
     "output_type": "stream",
     "text": [
      "<class 'pandas.core.frame.DataFrame'>\n",
      "RangeIndex: 30177 entries, 0 to 30176\n",
      "Data columns (total 1 columns):\n",
      " #   Column                  Non-Null Count  Dtype \n",
      "---  ------                  --------------  ----- \n",
      " 0   From: <Saved by Blink>  30177 non-null  object\n",
      "dtypes: object(1)\n",
      "memory usage: 235.9+ KB\n"
     ]
    }
   ],
   "source": [
    "import pandas as pd\n",
    "\n",
    "df = pd.read_csv(\n",
    "    'aug-train.csv',\n",
    "    dtype={'target': 'Int64'},   # 'Int64' allows NaNs for missing targets\n",
    "    engine='python',             # More flexible parser\n",
    "    on_bad_lines='skip'          # Ignore bad rows\n",
    ")\n",
    "\n",
    "df.info()\n"
   ]
  },
  {
   "cell_type": "code",
   "execution_count": 57,
   "id": "82b6cb70-dccf-488b-a8d7-3ed5c8d4df7e",
   "metadata": {},
   "outputs": [
    {
     "name": "stdout",
     "output_type": "stream",
     "text": [
      "<class 'pandas.core.frame.DataFrame'>\n",
      "RangeIndex: 28247 entries, 0 to 28246\n",
      "Data columns (total 1 columns):\n",
      " #   Column                  Non-Null Count  Dtype \n",
      "---  ------                  --------------  ----- \n",
      " 0   From: <Saved by Blink>  28247 non-null  object\n",
      "dtypes: object(1)\n",
      "memory usage: 220.8+ KB\n"
     ]
    }
   ],
   "source": [
    "import pandas as pd\n",
    "\n",
    "df = pd.read_csv(\n",
    "    'IPL_Matches.csv',\n",
    "    dtype={'target': 'Int64'},   # 'Int64' allows NaNs for missing targets\n",
    "    engine='python',             # More flexible parser\n",
    "    on_bad_lines='skip'          # Ignore bad rows\n",
    ")\n",
    "\n",
    "df.info()\n"
   ]
  },
  {
   "cell_type": "code",
   "execution_count": 61,
   "id": "cc779f00-2ff3-4c60-afc3-6a4e5565ebd1",
   "metadata": {},
   "outputs": [
    {
     "name": "stdout",
     "output_type": "stream",
     "text": [
      "Index(['From: <Saved by Blink>'], dtype='object')\n"
     ]
    }
   ],
   "source": [
    "import pandas as pd\n",
    "\n",
    "df_preview = pd.read_csv('IPL_Matches.csv', engine='python', on_bad_lines='skip')\n",
    "print(df_preview.columns)\n"
   ]
  },
  {
   "cell_type": "code",
   "execution_count": 63,
   "id": "74e45220-6e29-4584-b9dc-a5396885709d",
   "metadata": {},
   "outputs": [
    {
     "ename": "NameError",
     "evalue": "name 'rename' is not defined",
     "output_type": "error",
     "traceback": [
      "\u001b[31m---------------------------------------------------------------------------\u001b[39m",
      "\u001b[31mNameError\u001b[39m                                 Traceback (most recent call last)",
      "\u001b[36mCell\u001b[39m\u001b[36m \u001b[39m\u001b[32mIn[63]\u001b[39m\u001b[32m, line 1\u001b[39m\n\u001b[32m----> \u001b[39m\u001b[32m1\u001b[39m pd.read_csv(\u001b[33m'\u001b[39m\u001b[33mIPL_Matches.csv\u001b[39m\u001b[33m'\u001b[39m,converters={\u001b[33m'\u001b[39m\u001b[33mteam1\u001b[39m\u001b[33m'\u001b[39m:rename})\n",
      "\u001b[31mNameError\u001b[39m: name 'rename' is not defined"
     ]
    }
   ],
   "source": [
    "pd.read_csv('IPL_Matches.csv',converters={'team1':rename})\n"
   ]
  },
  {
   "cell_type": "code",
   "execution_count": 64,
   "id": "e16330cf-56b4-461a-85d5-44e100790e8b",
   "metadata": {},
   "outputs": [],
   "source": [
    "dfs = pd.read_csv('aug-train.csv',chunksize=5000)\n"
   ]
  },
  {
   "cell_type": "code",
   "execution_count": null,
   "id": "c7f40a07-57cb-48d2-a0cf-25bdd678b3b5",
   "metadata": {},
   "outputs": [],
   "source": []
  }
 ],
 "metadata": {
  "kernelspec": {
   "display_name": "Python [conda env:campusx]",
   "language": "python",
   "name": "conda-env-campusx-py"
  },
  "language_info": {
   "codemirror_mode": {
    "name": "ipython",
    "version": 3
   },
   "file_extension": ".py",
   "mimetype": "text/x-python",
   "name": "python",
   "nbconvert_exporter": "python",
   "pygments_lexer": "ipython3",
   "version": "3.13.5"
  }
 },
 "nbformat": 4,
 "nbformat_minor": 5
}
