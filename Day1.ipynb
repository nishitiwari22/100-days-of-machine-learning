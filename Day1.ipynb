{
 "cells": [
  {
   "cell_type": "code",
   "execution_count": 2,
   "id": "e2467fd8-ba1e-4b8f-919a-f7d29cb4a9eb",
   "metadata": {},
   "outputs": [
    {
     "name": "stdout",
     "output_type": "stream",
     "text": [
      "Hello\n"
     ]
    }
   ],
   "source": [
    "print(\"Hello\")"
   ]
  },
  {
   "cell_type": "markdown",
   "id": "8566b603-d570-4d11-831c-f1003e226032",
   "metadata": {},
   "source": [
    "# 1. Import DataSet"
   ]
  },
  {
   "cell_type": "markdown",
   "id": "50687b95-2f69-4108-b9dd-0ccc3ceacdd5",
   "metadata": {},
   "source": [
    "Learning Machine Learning :) We will import dataset \n"
   ]
  },
  {
   "cell_type": "markdown",
   "id": "632d481e-dc0d-4ed4-a9b5-99c400528fd7",
   "metadata": {},
   "source": [
    "# 1.Heading"
   ]
  },
  {
   "cell_type": "markdown",
   "id": "3c1fd879-7eb1-47a4-97f2-7b1e2c36c164",
   "metadata": {},
   "source": [
    "## 2.Heading"
   ]
  },
  {
   "cell_type": "markdown",
   "id": "913b7dcd-18c4-43e2-b983-6b25608ae633",
   "metadata": {},
   "source": [
    "<p style=\"color:red\">Nishi</p>"
   ]
  },
  {
   "cell_type": "code",
   "execution_count": null,
   "id": "415f7195-bf67-44ba-ad95-4e1e113c765b",
   "metadata": {},
   "outputs": [],
   "source": []
  }
 ],
 "metadata": {
  "kernelspec": {
   "display_name": "Python [conda env:base] *",
   "language": "python",
   "name": "conda-base-py"
  },
  "language_info": {
   "codemirror_mode": {
    "name": "ipython",
    "version": 3
   },
   "file_extension": ".py",
   "mimetype": "text/x-python",
   "name": "python",
   "nbconvert_exporter": "python",
   "pygments_lexer": "ipython3",
   "version": "3.13.5"
  }
 },
 "nbformat": 4,
 "nbformat_minor": 5
}
